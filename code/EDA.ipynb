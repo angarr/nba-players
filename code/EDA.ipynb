{
 "cells": [
  {
   "cell_type": "code",
   "execution_count": 3,
   "metadata": {},
   "outputs": [],
   "source": [
    "import pandas as pd\n",
    "import numpy as np\n",
    "from os import listdir\n",
    "from os.path import isfile, join"
   ]
  },
  {
   "cell_type": "markdown",
   "metadata": {},
   "source": [
    "### Read data"
   ]
  },
  {
   "cell_type": "code",
   "execution_count": 5,
   "metadata": {},
   "outputs": [
    {
     "data": {
      "text/plain": [
       "['basketball_abbrev.csv',\n",
       " 'basketball_teams.csv',\n",
       " 'basketball_draft.csv',\n",
       " 'basketball_awards_players.csv',\n",
       " 'basketball_coaches.csv',\n",
       " 'basketball_hof.csv',\n",
       " 'basketball_awards_coaches.csv',\n",
       " 'basketball_series_post.csv',\n",
       " 'basketball_master.csv',\n",
       " 'basketball_player_allstar.csv']"
      ]
     },
     "execution_count": 5,
     "metadata": {},
     "output_type": "execute_result"
    }
   ],
   "source": [
    "mypath = '../data/'\n",
    "onlyfiles = [f for f in listdir(mypath) if isfile(join(mypath, f))]\n",
    "onlyfiles"
   ]
  },
  {
   "cell_type": "code",
   "execution_count": 30,
   "metadata": {},
   "outputs": [
    {
     "name": "stdout",
     "output_type": "stream",
     "text": [
      "Largo archivo basketball_abbrev: 40 filas, 3 columnas \n",
      "\n",
      "  abbrev_type code        full_name\n",
      "0       Round   DF  Division Finals\n",
      "\n",
      "Largo archivo basketball_teams: 1536 filas, 60 columnas \n",
      "\n",
      "   year lgID tmID franchID confID divID  rank  confRank playoff  \\\n",
      "0  1946  NBA  BOS      BOS    NaN    ED     5         0     NaN   \n",
      "\n",
      "             name  ...  divWon  divLoss  pace  won  lost  games      min  \\\n",
      "0  Boston Celtics  ...      11       19     0   22    38     60  14500.0   \n",
      "\n",
      "           arena  attendance  bbtmID  \n",
      "0  Boston Garden       32767     BOS  \n",
      "\n",
      "[1 rows x 60 columns]\n",
      "\n",
      "Largo archivo basketball_draft: 9003 filas, 11 columnas \n",
      "\n",
      "   draftYear  draftRound  draftSelection  draftOverall tmID firstName  \\\n",
      "0       1967           0               0             0  ANA   Darrell   \n",
      "\n",
      "  lastName suffixName   playerID draftFrom lgID  \n",
      "0    Hardy        NaN  hardyda01    Baylor  ABA  \n",
      "\n",
      "Largo archivo basketball_awards_players: 1719 filas, 6 columnas \n",
      "\n",
      "    playerID               award  year lgID note  pos\n",
      "0  feeribo01  All-NBA First Team  1946  NBA  NaN  NaN\n",
      "\n",
      "Largo archivo basketball_coaches: 1689 filas, 9 columnas \n",
      "\n",
      "     coachID  year tmID  lgID  stint   won  lost  post_wins  post_losses\n",
      "0  johnsne01  1961  PGR  ABL1      1  41.0  40.0        0.0          1.0\n",
      "\n",
      "Largo archivo basketball_hof: 328 filas, 4 columnas \n",
      "\n",
      "   year hofID               name     category\n",
      "0  1959   NaN  Amos Alonzo Stagg  Contributor\n",
      "\n",
      "Largo archivo basketball_awards_coaches: 61 filas, 5 columnas \n",
      "\n",
      "   year    coachID                  award lgID note\n",
      "0  1962  gallaha01  NBA Coach of the Year  NBA  NaN\n",
      "\n",
      "Largo archivo basketball_series_post: 775 filas, 9 columnas \n",
      "\n",
      "   year round series tmIDWinner lgIDWinner tmIDLoser lgIDLoser  W  L\n",
      "0  1946     F      O        PHW        NBA       CHS       NBA  4  1\n",
      "\n",
      "Largo archivo basketball_master: 5061 filas, 26 columnas \n",
      "\n",
      "       bioID useFirst firstName middleName   lastName nameGiven fullGivenName  \\\n",
      "0  abdelal01     Alaa      Alaa        NaN  Abdelnaby       NaN           NaN   \n",
      "\n",
      "  nameSuffix nameNick  pos  ...   birthDate  birthCity  birthState  \\\n",
      "0        NaN      NaN  F-C  ...  1968-06-24      Cairo         NaN   \n",
      "\n",
      "   birthCountry         highSchool      hsCity hsState hsCountry   deathDate  \\\n",
      "0           EGY  Bloomfield Senior  Bloomfield      NJ       USA  0000-00-00   \n",
      "\n",
      "  race  \n",
      "0    B  \n",
      "\n",
      "[1 rows x 26 columns]\n",
      "\n",
      "Largo archivo basketball_player_allstar: 1609 filas, 23 columnas \n",
      "\n",
      "   player_id     last_name first_name  season_id conference league_id  \\\n",
      "0  abdulka01  Abdul-Jabbar     Kareem       1978       West       NBA   \n",
      "\n",
      "   games_played  minutes  points  o_rebounds  ...  steals  blocks  turnovers  \\\n",
      "0             1       28    11.0         NaN  ...     NaN     NaN        NaN   \n",
      "\n",
      "   personal_fouls  fg_attempted  fg_made  ft_attempted  ft_made  \\\n",
      "0             NaN          12.0      5.0           2.0      1.0   \n",
      "\n",
      "   three_attempted  three_made  \n",
      "0              NaN         NaN  \n",
      "\n",
      "[1 rows x 23 columns]\n",
      "\n"
     ]
    }
   ],
   "source": [
    "d= {}\n",
    "for file in onlyfiles:\n",
    "    df = pd.read_csv('../data/' + file)\n",
    "    name = file.split('.')[0]\n",
    "    print(f\"Largo archivo {name}: {len(df)} filas, {len(list(df.columns))} columnas \\n\")\n",
    "    print(df.head(1))\n",
    "    print(\"\")\n",
    "    #print(f\"Variables : {list(df.columns)}\")\n",
    "    d[file.split('.')[0]] = df"
   ]
  },
  {
   "cell_type": "markdown",
   "metadata": {},
   "source": [
    "### Headers"
   ]
  },
  {
   "cell_type": "code",
   "execution_count": null,
   "metadata": {},
   "outputs": [],
   "source": []
  },
  {
   "cell_type": "code",
   "execution_count": null,
   "metadata": {},
   "outputs": [],
   "source": []
  },
  {
   "cell_type": "code",
   "execution_count": null,
   "metadata": {},
   "outputs": [],
   "source": []
  },
  {
   "cell_type": "code",
   "execution_count": null,
   "metadata": {},
   "outputs": [],
   "source": []
  }
 ],
 "metadata": {
  "kernelspec": {
   "display_name": "Python 3",
   "language": "python",
   "name": "python3"
  },
  "language_info": {
   "codemirror_mode": {
    "name": "ipython",
    "version": 3
   },
   "file_extension": ".py",
   "mimetype": "text/x-python",
   "name": "python",
   "nbconvert_exporter": "python",
   "pygments_lexer": "ipython3",
   "version": "3.7.7"
  }
 },
 "nbformat": 4,
 "nbformat_minor": 2
}
