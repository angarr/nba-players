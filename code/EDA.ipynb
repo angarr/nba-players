{
 "cells": [
  {
   "cell_type": "code",
   "execution_count": 3,
   "metadata": {},
   "outputs": [],
   "source": [
    "import pandas as pd\n",
    "import numpy as np\n",
    "from os import listdir\n",
    "from os.path import isfile, join"
   ]
  },
  {
   "cell_type": "markdown",
   "metadata": {},
   "source": [
    "### Read data"
   ]
  },
  {
   "cell_type": "code",
   "execution_count": 5,
   "metadata": {},
   "outputs": [
    {
     "data": {
      "text/plain": [
       "['basketball_abbrev.csv',\n",
       " 'basketball_teams.csv',\n",
       " 'basketball_draft.csv',\n",
       " 'basketball_awards_players.csv',\n",
       " 'basketball_coaches.csv',\n",
       " 'basketball_hof.csv',\n",
       " 'basketball_awards_coaches.csv',\n",
       " 'basketball_series_post.csv',\n",
       " 'basketball_master.csv',\n",
       " 'basketball_player_allstar.csv']"
      ]
     },
     "execution_count": 5,
     "metadata": {},
     "output_type": "execute_result"
    }
   ],
   "source": [
    "mypath = '../data/'\n",
    "onlyfiles = [f for f in listdir(mypath) if isfile(join(mypath, f))]\n",
    "onlyfiles"
   ]
  },
  {
   "cell_type": "code",
   "execution_count": 31,
   "metadata": {},
   "outputs": [
    {
     "name": "stdout",
     "output_type": "stream",
     "text": [
      "Largo archivo basketball_abbrev: 40 filas, 3 columnas \n",
      "\n",
      "Largo archivo basketball_teams: 1536 filas, 60 columnas \n",
      "\n",
      "Largo archivo basketball_draft: 9003 filas, 11 columnas \n",
      "\n",
      "Largo archivo basketball_awards_players: 1719 filas, 6 columnas \n",
      "\n",
      "Largo archivo basketball_coaches: 1689 filas, 9 columnas \n",
      "\n",
      "Largo archivo basketball_hof: 328 filas, 4 columnas \n",
      "\n",
      "Largo archivo basketball_awards_coaches: 61 filas, 5 columnas \n",
      "\n",
      "Largo archivo basketball_series_post: 775 filas, 9 columnas \n",
      "\n",
      "Largo archivo basketball_master: 5061 filas, 26 columnas \n",
      "\n",
      "Largo archivo basketball_player_allstar: 1609 filas, 23 columnas \n",
      "\n"
     ]
    }
   ],
   "source": [
    "d= {}\n",
    "for file in onlyfiles:\n",
    "    df = pd.read_csv('../data/' + file)\n",
    "    name = file.split('.')[0]\n",
    "    print(f\"Largo archivo {name}: {len(df)} filas, {len(list(df.columns))} columnas \\n\")\n",
    "    #print(df.head(1))\n",
    "    #print(\"\")\n",
    "    #print(f\"Variables : {list(df.columns)}\")\n",
    "    d[file.split('.')[0]] = df"
   ]
  },
  {
   "cell_type": "markdown",
   "metadata": {},
   "source": [
    "### Headers"
   ]
  },
  {
   "cell_type": "code",
   "execution_count": 32,
   "metadata": {},
   "outputs": [
    {
     "data": {
      "text/html": [
       "<div>\n",
       "<style scoped>\n",
       "    .dataframe tbody tr th:only-of-type {\n",
       "        vertical-align: middle;\n",
       "    }\n",
       "\n",
       "    .dataframe tbody tr th {\n",
       "        vertical-align: top;\n",
       "    }\n",
       "\n",
       "    .dataframe thead th {\n",
       "        text-align: right;\n",
       "    }\n",
       "</style>\n",
       "<table border=\"1\" class=\"dataframe\">\n",
       "  <thead>\n",
       "    <tr style=\"text-align: right;\">\n",
       "      <th></th>\n",
       "      <th>abbrev_type</th>\n",
       "      <th>code</th>\n",
       "      <th>full_name</th>\n",
       "    </tr>\n",
       "  </thead>\n",
       "  <tbody>\n",
       "    <tr>\n",
       "      <th>0</th>\n",
       "      <td>Round</td>\n",
       "      <td>DF</td>\n",
       "      <td>Division Finals</td>\n",
       "    </tr>\n",
       "  </tbody>\n",
       "</table>\n",
       "</div>"
      ],
      "text/plain": [
       "  abbrev_type code        full_name\n",
       "0       Round   DF  Division Finals"
      ]
     },
     "execution_count": 32,
     "metadata": {},
     "output_type": "execute_result"
    }
   ],
   "source": [
    "#vale callampa\n",
    "#Diccionario de variables\n",
    "d[\"basketball_abbrev\"].head(1)"
   ]
  },
  {
   "cell_type": "code",
   "execution_count": 43,
   "metadata": {},
   "outputs": [
    {
     "data": {
      "text/html": [
       "<div>\n",
       "<style scoped>\n",
       "    .dataframe tbody tr th:only-of-type {\n",
       "        vertical-align: middle;\n",
       "    }\n",
       "\n",
       "    .dataframe tbody tr th {\n",
       "        vertical-align: top;\n",
       "    }\n",
       "\n",
       "    .dataframe thead th {\n",
       "        text-align: right;\n",
       "    }\n",
       "</style>\n",
       "<table border=\"1\" class=\"dataframe\">\n",
       "  <thead>\n",
       "    <tr style=\"text-align: right;\">\n",
       "      <th></th>\n",
       "      <th>year</th>\n",
       "      <th>lgID</th>\n",
       "      <th>tmID</th>\n",
       "      <th>franchID</th>\n",
       "      <th>confID</th>\n",
       "      <th>divID</th>\n",
       "      <th>rank</th>\n",
       "      <th>confRank</th>\n",
       "      <th>playoff</th>\n",
       "      <th>name</th>\n",
       "      <th>...</th>\n",
       "      <th>divWon</th>\n",
       "      <th>divLoss</th>\n",
       "      <th>pace</th>\n",
       "      <th>won</th>\n",
       "      <th>lost</th>\n",
       "      <th>games</th>\n",
       "      <th>min</th>\n",
       "      <th>arena</th>\n",
       "      <th>attendance</th>\n",
       "      <th>bbtmID</th>\n",
       "    </tr>\n",
       "  </thead>\n",
       "  <tbody>\n",
       "    <tr>\n",
       "      <th>0</th>\n",
       "      <td>1946</td>\n",
       "      <td>NBA</td>\n",
       "      <td>BOS</td>\n",
       "      <td>BOS</td>\n",
       "      <td>NaN</td>\n",
       "      <td>ED</td>\n",
       "      <td>5</td>\n",
       "      <td>0</td>\n",
       "      <td>NaN</td>\n",
       "      <td>Boston Celtics</td>\n",
       "      <td>...</td>\n",
       "      <td>11</td>\n",
       "      <td>19</td>\n",
       "      <td>0</td>\n",
       "      <td>22</td>\n",
       "      <td>38</td>\n",
       "      <td>60</td>\n",
       "      <td>14500.0</td>\n",
       "      <td>Boston Garden</td>\n",
       "      <td>32767</td>\n",
       "      <td>BOS</td>\n",
       "    </tr>\n",
       "  </tbody>\n",
       "</table>\n",
       "<p>1 rows × 60 columns</p>\n",
       "</div>"
      ],
      "text/plain": [
       "   year lgID tmID franchID confID divID  rank  confRank playoff  \\\n",
       "0  1946  NBA  BOS      BOS    NaN    ED     5         0     NaN   \n",
       "\n",
       "             name  ...  divWon  divLoss  pace  won  lost  games      min  \\\n",
       "0  Boston Celtics  ...      11       19     0   22    38     60  14500.0   \n",
       "\n",
       "           arena  attendance  bbtmID  \n",
       "0  Boston Garden       32767     BOS  \n",
       "\n",
       "[1 rows x 60 columns]"
      ]
     },
     "execution_count": 43,
     "metadata": {},
     "output_type": "execute_result"
    }
   ],
   "source": [
    "#Equipos de NBA por año\n",
    "d[\"basketball_teams\"].head(1)"
   ]
  },
  {
   "cell_type": "code",
   "execution_count": 44,
   "metadata": {},
   "outputs": [
    {
     "data": {
      "text/html": [
       "<div>\n",
       "<style scoped>\n",
       "    .dataframe tbody tr th:only-of-type {\n",
       "        vertical-align: middle;\n",
       "    }\n",
       "\n",
       "    .dataframe tbody tr th {\n",
       "        vertical-align: top;\n",
       "    }\n",
       "\n",
       "    .dataframe thead th {\n",
       "        text-align: right;\n",
       "    }\n",
       "</style>\n",
       "<table border=\"1\" class=\"dataframe\">\n",
       "  <thead>\n",
       "    <tr style=\"text-align: right;\">\n",
       "      <th></th>\n",
       "      <th>draftYear</th>\n",
       "      <th>draftRound</th>\n",
       "      <th>draftSelection</th>\n",
       "      <th>draftOverall</th>\n",
       "      <th>tmID</th>\n",
       "      <th>firstName</th>\n",
       "      <th>lastName</th>\n",
       "      <th>suffixName</th>\n",
       "      <th>playerID</th>\n",
       "      <th>draftFrom</th>\n",
       "      <th>lgID</th>\n",
       "    </tr>\n",
       "  </thead>\n",
       "  <tbody>\n",
       "    <tr>\n",
       "      <th>0</th>\n",
       "      <td>1967</td>\n",
       "      <td>0</td>\n",
       "      <td>0</td>\n",
       "      <td>0</td>\n",
       "      <td>ANA</td>\n",
       "      <td>Darrell</td>\n",
       "      <td>Hardy</td>\n",
       "      <td>NaN</td>\n",
       "      <td>hardyda01</td>\n",
       "      <td>Baylor</td>\n",
       "      <td>ABA</td>\n",
       "    </tr>\n",
       "  </tbody>\n",
       "</table>\n",
       "</div>"
      ],
      "text/plain": [
       "   draftYear  draftRound  draftSelection  draftOverall tmID firstName  \\\n",
       "0       1967           0               0             0  ANA   Darrell   \n",
       "\n",
       "  lastName suffixName   playerID draftFrom lgID  \n",
       "0    Hardy        NaN  hardyda01    Baylor  ABA  "
      ]
     },
     "execution_count": 44,
     "metadata": {},
     "output_type": "execute_result"
    }
   ],
   "source": [
    "#Draft por año\n",
    "d[\"basketball_draft\"].head(1)"
   ]
  },
  {
   "cell_type": "code",
   "execution_count": 45,
   "metadata": {},
   "outputs": [
    {
     "data": {
      "text/html": [
       "<div>\n",
       "<style scoped>\n",
       "    .dataframe tbody tr th:only-of-type {\n",
       "        vertical-align: middle;\n",
       "    }\n",
       "\n",
       "    .dataframe tbody tr th {\n",
       "        vertical-align: top;\n",
       "    }\n",
       "\n",
       "    .dataframe thead th {\n",
       "        text-align: right;\n",
       "    }\n",
       "</style>\n",
       "<table border=\"1\" class=\"dataframe\">\n",
       "  <thead>\n",
       "    <tr style=\"text-align: right;\">\n",
       "      <th></th>\n",
       "      <th>playerID</th>\n",
       "      <th>award</th>\n",
       "      <th>year</th>\n",
       "      <th>lgID</th>\n",
       "      <th>note</th>\n",
       "      <th>pos</th>\n",
       "    </tr>\n",
       "  </thead>\n",
       "  <tbody>\n",
       "    <tr>\n",
       "      <th>0</th>\n",
       "      <td>feeribo01</td>\n",
       "      <td>All-NBA First Team</td>\n",
       "      <td>1946</td>\n",
       "      <td>NBA</td>\n",
       "      <td>NaN</td>\n",
       "      <td>NaN</td>\n",
       "    </tr>\n",
       "  </tbody>\n",
       "</table>\n",
       "</div>"
      ],
      "text/plain": [
       "    playerID               award  year lgID note  pos\n",
       "0  feeribo01  All-NBA First Team  1946  NBA  NaN  NaN"
      ]
     },
     "execution_count": 45,
     "metadata": {},
     "output_type": "execute_result"
    }
   ],
   "source": [
    "#Premios por jugador\n",
    "d[\"basketball_awards_players\"].head(1)"
   ]
  },
  {
   "cell_type": "code",
   "execution_count": 36,
   "metadata": {},
   "outputs": [
    {
     "data": {
      "text/html": [
       "<div>\n",
       "<style scoped>\n",
       "    .dataframe tbody tr th:only-of-type {\n",
       "        vertical-align: middle;\n",
       "    }\n",
       "\n",
       "    .dataframe tbody tr th {\n",
       "        vertical-align: top;\n",
       "    }\n",
       "\n",
       "    .dataframe thead th {\n",
       "        text-align: right;\n",
       "    }\n",
       "</style>\n",
       "<table border=\"1\" class=\"dataframe\">\n",
       "  <thead>\n",
       "    <tr style=\"text-align: right;\">\n",
       "      <th></th>\n",
       "      <th>coachID</th>\n",
       "      <th>year</th>\n",
       "      <th>tmID</th>\n",
       "      <th>lgID</th>\n",
       "      <th>stint</th>\n",
       "      <th>won</th>\n",
       "      <th>lost</th>\n",
       "      <th>post_wins</th>\n",
       "      <th>post_losses</th>\n",
       "    </tr>\n",
       "  </thead>\n",
       "  <tbody>\n",
       "    <tr>\n",
       "      <th>0</th>\n",
       "      <td>johnsne01</td>\n",
       "      <td>1961</td>\n",
       "      <td>PGR</td>\n",
       "      <td>ABL1</td>\n",
       "      <td>1</td>\n",
       "      <td>41.0</td>\n",
       "      <td>40.0</td>\n",
       "      <td>0.0</td>\n",
       "      <td>1.0</td>\n",
       "    </tr>\n",
       "  </tbody>\n",
       "</table>\n",
       "</div>"
      ],
      "text/plain": [
       "     coachID  year tmID  lgID  stint   won  lost  post_wins  post_losses\n",
       "0  johnsne01  1961  PGR  ABL1      1  41.0  40.0        0.0          1.0"
      ]
     },
     "execution_count": 36,
     "metadata": {},
     "output_type": "execute_result"
    }
   ],
   "source": [
    "#Entrenadores\n",
    "d[\"basketball_coaches\"].head(1)"
   ]
  },
  {
   "cell_type": "code",
   "execution_count": 37,
   "metadata": {},
   "outputs": [
    {
     "data": {
      "text/html": [
       "<div>\n",
       "<style scoped>\n",
       "    .dataframe tbody tr th:only-of-type {\n",
       "        vertical-align: middle;\n",
       "    }\n",
       "\n",
       "    .dataframe tbody tr th {\n",
       "        vertical-align: top;\n",
       "    }\n",
       "\n",
       "    .dataframe thead th {\n",
       "        text-align: right;\n",
       "    }\n",
       "</style>\n",
       "<table border=\"1\" class=\"dataframe\">\n",
       "  <thead>\n",
       "    <tr style=\"text-align: right;\">\n",
       "      <th></th>\n",
       "      <th>year</th>\n",
       "      <th>hofID</th>\n",
       "      <th>name</th>\n",
       "      <th>category</th>\n",
       "    </tr>\n",
       "  </thead>\n",
       "  <tbody>\n",
       "    <tr>\n",
       "      <th>0</th>\n",
       "      <td>1959</td>\n",
       "      <td>NaN</td>\n",
       "      <td>Amos Alonzo Stagg</td>\n",
       "      <td>Contributor</td>\n",
       "    </tr>\n",
       "  </tbody>\n",
       "</table>\n",
       "</div>"
      ],
      "text/plain": [
       "   year hofID               name     category\n",
       "0  1959   NaN  Amos Alonzo Stagg  Contributor"
      ]
     },
     "execution_count": 37,
     "metadata": {},
     "output_type": "execute_result"
    }
   ],
   "source": [
    "#Salon de la fama\n",
    "d[\"basketball_hof\"].head(1)"
   ]
  },
  {
   "cell_type": "code",
   "execution_count": 38,
   "metadata": {},
   "outputs": [
    {
     "data": {
      "text/html": [
       "<div>\n",
       "<style scoped>\n",
       "    .dataframe tbody tr th:only-of-type {\n",
       "        vertical-align: middle;\n",
       "    }\n",
       "\n",
       "    .dataframe tbody tr th {\n",
       "        vertical-align: top;\n",
       "    }\n",
       "\n",
       "    .dataframe thead th {\n",
       "        text-align: right;\n",
       "    }\n",
       "</style>\n",
       "<table border=\"1\" class=\"dataframe\">\n",
       "  <thead>\n",
       "    <tr style=\"text-align: right;\">\n",
       "      <th></th>\n",
       "      <th>year</th>\n",
       "      <th>coachID</th>\n",
       "      <th>award</th>\n",
       "      <th>lgID</th>\n",
       "      <th>note</th>\n",
       "    </tr>\n",
       "  </thead>\n",
       "  <tbody>\n",
       "    <tr>\n",
       "      <th>0</th>\n",
       "      <td>1962</td>\n",
       "      <td>gallaha01</td>\n",
       "      <td>NBA Coach of the Year</td>\n",
       "      <td>NBA</td>\n",
       "      <td>NaN</td>\n",
       "    </tr>\n",
       "  </tbody>\n",
       "</table>\n",
       "</div>"
      ],
      "text/plain": [
       "   year    coachID                  award lgID note\n",
       "0  1962  gallaha01  NBA Coach of the Year  NBA  NaN"
      ]
     },
     "execution_count": 38,
     "metadata": {},
     "output_type": "execute_result"
    }
   ],
   "source": [
    "#Premios\n",
    "d[\"basketball_awards_coaches\"].head(1)"
   ]
  },
  {
   "cell_type": "code",
   "execution_count": 39,
   "metadata": {},
   "outputs": [
    {
     "data": {
      "text/html": [
       "<div>\n",
       "<style scoped>\n",
       "    .dataframe tbody tr th:only-of-type {\n",
       "        vertical-align: middle;\n",
       "    }\n",
       "\n",
       "    .dataframe tbody tr th {\n",
       "        vertical-align: top;\n",
       "    }\n",
       "\n",
       "    .dataframe thead th {\n",
       "        text-align: right;\n",
       "    }\n",
       "</style>\n",
       "<table border=\"1\" class=\"dataframe\">\n",
       "  <thead>\n",
       "    <tr style=\"text-align: right;\">\n",
       "      <th></th>\n",
       "      <th>year</th>\n",
       "      <th>round</th>\n",
       "      <th>series</th>\n",
       "      <th>tmIDWinner</th>\n",
       "      <th>lgIDWinner</th>\n",
       "      <th>tmIDLoser</th>\n",
       "      <th>lgIDLoser</th>\n",
       "      <th>W</th>\n",
       "      <th>L</th>\n",
       "    </tr>\n",
       "  </thead>\n",
       "  <tbody>\n",
       "    <tr>\n",
       "      <th>0</th>\n",
       "      <td>1946</td>\n",
       "      <td>F</td>\n",
       "      <td>O</td>\n",
       "      <td>PHW</td>\n",
       "      <td>NBA</td>\n",
       "      <td>CHS</td>\n",
       "      <td>NBA</td>\n",
       "      <td>4</td>\n",
       "      <td>1</td>\n",
       "    </tr>\n",
       "  </tbody>\n",
       "</table>\n",
       "</div>"
      ],
      "text/plain": [
       "   year round series tmIDWinner lgIDWinner tmIDLoser lgIDLoser  W  L\n",
       "0  1946     F      O        PHW        NBA       CHS       NBA  4  1"
      ]
     },
     "execution_count": 39,
     "metadata": {},
     "output_type": "execute_result"
    }
   ],
   "source": [
    "# Playoffs\n",
    "d[\"basketball_series_post\"].head(1)"
   ]
  },
  {
   "cell_type": "code",
   "execution_count": 40,
   "metadata": {},
   "outputs": [
    {
     "data": {
      "text/html": [
       "<div>\n",
       "<style scoped>\n",
       "    .dataframe tbody tr th:only-of-type {\n",
       "        vertical-align: middle;\n",
       "    }\n",
       "\n",
       "    .dataframe tbody tr th {\n",
       "        vertical-align: top;\n",
       "    }\n",
       "\n",
       "    .dataframe thead th {\n",
       "        text-align: right;\n",
       "    }\n",
       "</style>\n",
       "<table border=\"1\" class=\"dataframe\">\n",
       "  <thead>\n",
       "    <tr style=\"text-align: right;\">\n",
       "      <th></th>\n",
       "      <th>bioID</th>\n",
       "      <th>useFirst</th>\n",
       "      <th>firstName</th>\n",
       "      <th>middleName</th>\n",
       "      <th>lastName</th>\n",
       "      <th>nameGiven</th>\n",
       "      <th>fullGivenName</th>\n",
       "      <th>nameSuffix</th>\n",
       "      <th>nameNick</th>\n",
       "      <th>pos</th>\n",
       "      <th>...</th>\n",
       "      <th>birthDate</th>\n",
       "      <th>birthCity</th>\n",
       "      <th>birthState</th>\n",
       "      <th>birthCountry</th>\n",
       "      <th>highSchool</th>\n",
       "      <th>hsCity</th>\n",
       "      <th>hsState</th>\n",
       "      <th>hsCountry</th>\n",
       "      <th>deathDate</th>\n",
       "      <th>race</th>\n",
       "    </tr>\n",
       "  </thead>\n",
       "  <tbody>\n",
       "    <tr>\n",
       "      <th>0</th>\n",
       "      <td>abdelal01</td>\n",
       "      <td>Alaa</td>\n",
       "      <td>Alaa</td>\n",
       "      <td>NaN</td>\n",
       "      <td>Abdelnaby</td>\n",
       "      <td>NaN</td>\n",
       "      <td>NaN</td>\n",
       "      <td>NaN</td>\n",
       "      <td>NaN</td>\n",
       "      <td>F-C</td>\n",
       "      <td>...</td>\n",
       "      <td>1968-06-24</td>\n",
       "      <td>Cairo</td>\n",
       "      <td>NaN</td>\n",
       "      <td>EGY</td>\n",
       "      <td>Bloomfield Senior</td>\n",
       "      <td>Bloomfield</td>\n",
       "      <td>NJ</td>\n",
       "      <td>USA</td>\n",
       "      <td>0000-00-00</td>\n",
       "      <td>B</td>\n",
       "    </tr>\n",
       "  </tbody>\n",
       "</table>\n",
       "<p>1 rows × 26 columns</p>\n",
       "</div>"
      ],
      "text/plain": [
       "       bioID useFirst firstName middleName   lastName nameGiven fullGivenName  \\\n",
       "0  abdelal01     Alaa      Alaa        NaN  Abdelnaby       NaN           NaN   \n",
       "\n",
       "  nameSuffix nameNick  pos  ...   birthDate  birthCity  birthState  \\\n",
       "0        NaN      NaN  F-C  ...  1968-06-24      Cairo         NaN   \n",
       "\n",
       "   birthCountry         highSchool      hsCity hsState hsCountry   deathDate  \\\n",
       "0           EGY  Bloomfield Senior  Bloomfield      NJ       USA  0000-00-00   \n",
       "\n",
       "  race  \n",
       "0    B  \n",
       "\n",
       "[1 rows x 26 columns]"
      ]
     },
     "execution_count": 40,
     "metadata": {},
     "output_type": "execute_result"
    }
   ],
   "source": [
    "#Completo\n",
    "d[\"basketball_master\"].head(1)"
   ]
  },
  {
   "cell_type": "code",
   "execution_count": 41,
   "metadata": {},
   "outputs": [
    {
     "data": {
      "text/html": [
       "<div>\n",
       "<style scoped>\n",
       "    .dataframe tbody tr th:only-of-type {\n",
       "        vertical-align: middle;\n",
       "    }\n",
       "\n",
       "    .dataframe tbody tr th {\n",
       "        vertical-align: top;\n",
       "    }\n",
       "\n",
       "    .dataframe thead th {\n",
       "        text-align: right;\n",
       "    }\n",
       "</style>\n",
       "<table border=\"1\" class=\"dataframe\">\n",
       "  <thead>\n",
       "    <tr style=\"text-align: right;\">\n",
       "      <th></th>\n",
       "      <th>player_id</th>\n",
       "      <th>last_name</th>\n",
       "      <th>first_name</th>\n",
       "      <th>season_id</th>\n",
       "      <th>conference</th>\n",
       "      <th>league_id</th>\n",
       "      <th>games_played</th>\n",
       "      <th>minutes</th>\n",
       "      <th>points</th>\n",
       "      <th>o_rebounds</th>\n",
       "      <th>...</th>\n",
       "      <th>steals</th>\n",
       "      <th>blocks</th>\n",
       "      <th>turnovers</th>\n",
       "      <th>personal_fouls</th>\n",
       "      <th>fg_attempted</th>\n",
       "      <th>fg_made</th>\n",
       "      <th>ft_attempted</th>\n",
       "      <th>ft_made</th>\n",
       "      <th>three_attempted</th>\n",
       "      <th>three_made</th>\n",
       "    </tr>\n",
       "  </thead>\n",
       "  <tbody>\n",
       "    <tr>\n",
       "      <th>0</th>\n",
       "      <td>abdulka01</td>\n",
       "      <td>Abdul-Jabbar</td>\n",
       "      <td>Kareem</td>\n",
       "      <td>1978</td>\n",
       "      <td>West</td>\n",
       "      <td>NBA</td>\n",
       "      <td>1</td>\n",
       "      <td>28</td>\n",
       "      <td>11.0</td>\n",
       "      <td>NaN</td>\n",
       "      <td>...</td>\n",
       "      <td>NaN</td>\n",
       "      <td>NaN</td>\n",
       "      <td>NaN</td>\n",
       "      <td>NaN</td>\n",
       "      <td>12.0</td>\n",
       "      <td>5.0</td>\n",
       "      <td>2.0</td>\n",
       "      <td>1.0</td>\n",
       "      <td>NaN</td>\n",
       "      <td>NaN</td>\n",
       "    </tr>\n",
       "  </tbody>\n",
       "</table>\n",
       "<p>1 rows × 23 columns</p>\n",
       "</div>"
      ],
      "text/plain": [
       "   player_id     last_name first_name  season_id conference league_id  \\\n",
       "0  abdulka01  Abdul-Jabbar     Kareem       1978       West       NBA   \n",
       "\n",
       "   games_played  minutes  points  o_rebounds  ...  steals  blocks  turnovers  \\\n",
       "0             1       28    11.0         NaN  ...     NaN     NaN        NaN   \n",
       "\n",
       "   personal_fouls  fg_attempted  fg_made  ft_attempted  ft_made  \\\n",
       "0             NaN          12.0      5.0           2.0      1.0   \n",
       "\n",
       "   three_attempted  three_made  \n",
       "0              NaN         NaN  \n",
       "\n",
       "[1 rows x 23 columns]"
      ]
     },
     "execution_count": 41,
     "metadata": {},
     "output_type": "execute_result"
    }
   ],
   "source": [
    "# Allstar players\n",
    "d[\"basketball_player_allstar\"].head(1)"
   ]
  },
  {
   "cell_type": "code",
   "execution_count": null,
   "metadata": {},
   "outputs": [],
   "source": []
  },
  {
   "cell_type": "code",
   "execution_count": null,
   "metadata": {},
   "outputs": [],
   "source": []
  }
 ],
 "metadata": {
  "kernelspec": {
   "display_name": "Python 3",
   "language": "python",
   "name": "python3"
  },
  "language_info": {
   "codemirror_mode": {
    "name": "ipython",
    "version": 3
   },
   "file_extension": ".py",
   "mimetype": "text/x-python",
   "name": "python",
   "nbconvert_exporter": "python",
   "pygments_lexer": "ipython3",
   "version": "3.7.7"
  }
 },
 "nbformat": 4,
 "nbformat_minor": 2
}
